{
  "nbformat": 4,
  "nbformat_minor": 0,
  "metadata": {
    "colab": {
      "name": "facialRecognition",
      "provenance": [],
      "collapsed_sections": []
    },
    "kernelspec": {
      "name": "python3",
      "display_name": "Python 3"
    },
    "accelerator": "GPU"
  },
  "cells": [
    {
      "cell_type": "markdown",
      "metadata": {
        "id": "q3nt6674TqKm",
        "colab_type": "text"
      },
      "source": [
        "# facial"
      ]
    },
    {
      "cell_type": "code",
      "metadata": {
        "id": "AjHB74ksT1HO",
        "colab_type": "code",
        "colab": {}
      },
      "source": [
        "from google.colab import drive\n",
        "drive.mount('/content/drive')"
      ],
      "execution_count": 0,
      "outputs": []
    },
    {
      "cell_type": "code",
      "metadata": {
        "id": "Ct-Ygi71Tt4t",
        "colab_type": "code",
        "colab": {}
      },
      "source": [
        "%cd /content/drive/My Drive/facialRecognition\n",
        "!ls -la "
      ],
      "execution_count": 0,
      "outputs": []
    },
    {
      "cell_type": "code",
      "metadata": {
        "id": "AKaLUenmVplK",
        "colab_type": "code",
        "colab": {}
      },
      "source": [
        "!python ./trainFacial.py >> log/facialRecognition.log"
      ],
      "execution_count": 0,
      "outputs": []
    },
    {
      "cell_type": "code",
      "metadata": {
        "id": "HzVi7xCRUSx5",
        "colab_type": "code",
        "colab": {}
      },
      "source": [
        "!python ./trainFacial.py -e 1000"
      ],
      "execution_count": 0,
      "outputs": []
    }
  ]
}